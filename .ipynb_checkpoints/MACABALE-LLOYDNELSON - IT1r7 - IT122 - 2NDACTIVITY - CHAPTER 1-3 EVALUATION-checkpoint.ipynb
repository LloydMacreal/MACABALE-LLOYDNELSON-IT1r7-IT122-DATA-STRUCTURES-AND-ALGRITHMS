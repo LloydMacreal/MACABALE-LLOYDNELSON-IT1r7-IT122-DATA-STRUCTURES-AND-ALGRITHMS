{
 "cells": [
  {
   "cell_type": "code",
   "execution_count": 1,
   "metadata": {},
   "outputs": [
    {
     "name": "stdout",
     "output_type": "stream",
     "text": [
      "Discuss your learning on Chapter 1 time frame 8:00-30:35. Minikum of 200 characters.\n",
      "Chapter 1 learnings are the following\n",
      "My take away from Chalpter 1 is;\n",
      "Data accurancy refers to weather the data values are correct and\n",
      "The two characterics of data accurancy are form and content\n",
      "Data structures and algorithims are more likely to be used to solve problems\n",
      "which will give you an idea of how effective each one is to use\n",
      "Algorithms too can be applied in our daily lives because they focus on steps, steps that teach you achieve better results\n"
     ]
    }
   ],
   "source": [
    "print(\"Discuss your learning on Chapter 1 time frame 8:00-30:35. Minikum of 200 characters.\")\n",
    "\n",
    "print(\"Chapter 1 learnings are the following\")\n",
    "print(\"My take away from Chalpter 1 is;\")\n",
    "print(\"Data accurancy refers to weather the data values are correct and\")\n",
    "print(\"The two characterics of data accurancy are form and content\")\n",
    "print(\"Data structures and algorithims are more likely to be used to solve problems\")\n",
    "print(\"which will give you an idea of how effective each one is to use\")\n",
    "print(\"Algorithms too can be applied in our daily lives because they focus on steps, steps that teach you achieve better results\")"
   ]
  },
  {
   "cell_type": "code",
   "execution_count": 2,
   "metadata": {},
   "outputs": [
    {
     "name": "stdout",
     "output_type": "stream",
     "text": [
      "Discuss your learnings on Chapter 1. Time frame- 35:00- end. Minimum of 200 characters\n",
      "Algorithm analysisis an important part of the broader computational complexity theory,\n",
      "which provides theoritical estimates for the resources needed by any algorithm which solves a given computational problem.\n",
      "Complexity of algorithm is the measure which evaluates the order of the count of operations, perform by a given algorith function.\n"
     ]
    }
   ],
   "source": [
    "print(\"Discuss your learnings on Chapter 1. Time frame- 35:00- end. Minimum of 200 characters\")\n",
    "\n",
    "print(\"Algorithm analysisis an important part of the broader computational complexity theory,\")\n",
    "print(\"which provides theoritical estimates for the resources needed by any algorithm which solves a given computational problem.\")\n",
    "print(\"Complexity of algorithm is the measure which evaluates the order of the count of operations, perform by a given algorith function.\")"
   ]
  },
  {
   "cell_type": "code",
   "execution_count": 3,
   "metadata": {},
   "outputs": [
    {
     "name": "stdout",
     "output_type": "stream",
     "text": [
      "Discuss your learnigs on chapter 2 time frame 5:00-9:00. Minimum of 200 characters.\n",
      "My take away from Chapter 2 is,\n",
      "Data structures and algorithms help in understanding the nature of the problem at a deeper level and thereby a better understanding of the world.\n",
      "Chapter 2 is more on deletion, insertion, search and traverse,\n",
      "Deletion, input restricted dequeue\n",
      "Insertion, in dequeuer, we can insert or delete elements from both the ends. In queue we will folllow first the lrinciple of imsertion and deletion.\n",
      "Searching, find any elemnt or number between some numbers and elements is called searching\n",
      "Traverse, is a form of graph traversal and refers to the process of visiting each node in a tree data structure, exactly once.\n"
     ]
    }
   ],
   "source": [
    "print(\"Discuss your learnigs on chapter 2 time frame 5:00-9:00. Minimum of 200 characters.\")\n",
    "\n",
    "print(\"My take away from Chapter 2 is,\")\n",
    "print(\"Data structures and algorithms help in understanding the nature of the problem at a deeper level and thereby a better understanding of the world.\")\n",
    "print(\"Chapter 2 is more on deletion, insertion, search and traverse,\")\n",
    "print(\"Deletion, input restricted dequeue\")\n",
    "print(\"Insertion, in dequeuer, we can insert or delete elements from both the ends. In queue we will folllow first the lrinciple of imsertion and deletion.\")\n",
    "print(\"Searching, find any elemnt or number between some numbers and elements is called searching\")\n",
    "print(\"Traverse, is a form of graph traversal and refers to the process of visiting each node in a tree data structure, exactly once.\")"
   ]
  },
  {
   "cell_type": "code",
   "execution_count": 4,
   "metadata": {},
   "outputs": [
    {
     "name": "stdout",
     "output_type": "stream",
     "text": [
      "Discuss your learnings on Chapter 3 time frame 3:00- 18:00. Minimum of 200 characters.\n",
      "My take away from Chaptet 3 is.\n",
      "Data structures are the key part of many computer algorithms as they allow the programmers to do data managementin an effecients way.\n",
      "A right selection of various data structures type arrays;\n",
      "Linked List, Stack, Queue and etc.\n",
      "Data structures help us in  finding the hidden insights or patterns from raw data which can be major of use in the formations of big business decisions.\n"
     ]
    }
   ],
   "source": [
    "print(\"Discuss your learnings on Chapter 3 time frame 3:00- 18:00. Minimum of 200 characters.\")\n",
    "\n",
    "print(\"My take away from Chaptet 3 is.\")\n",
    "print(\"Data structures are the key part of many computer algorithms as they allow the programmers to do data managementin an effecients way.\")\n",
    "print(\"A right selection of various data structures type arrays;\")\n",
    "print(\"Linked List, Stack, Queue and etc.\" )\n",
    "print(\"Data structures help us in  finding the hidden insights or patterns from raw data which can be major of use in the formations of big business decisions.\")"
   ]
  },
  {
   "cell_type": "code",
   "execution_count": 5,
   "metadata": {},
   "outputs": [
    {
     "name": "stdout",
     "output_type": "stream",
     "text": [
      "2\n",
      "3\n",
      "4\n",
      "5\n",
      "6\n",
      "7\n"
     ]
    }
   ],
   "source": [
    "from array import *\n",
    "\n",
    "myArray = array('I',[1,2,3,4,5,6])\n",
    "myArray.insert(7,7)\n",
    "myArray.remove(1)\n",
    "\n",
    "for i in myArray:\n",
    "    print(i)"
   ]
  }
 ],
 "metadata": {
  "kernelspec": {
   "display_name": "Python 3",
   "language": "python",
   "name": "python3"
  },
  "language_info": {
   "codemirror_mode": {
    "name": "ipython",
    "version": 3
   },
   "file_extension": ".py",
   "mimetype": "text/x-python",
   "name": "python",
   "nbconvert_exporter": "python",
   "pygments_lexer": "ipython3",
   "version": "3.8.5"
  }
 },
 "nbformat": 4,
 "nbformat_minor": 4
}
